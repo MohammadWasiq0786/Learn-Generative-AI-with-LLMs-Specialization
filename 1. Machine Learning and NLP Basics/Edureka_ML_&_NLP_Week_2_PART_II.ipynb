{
  "nbformat": 4,
  "nbformat_minor": 0,
  "metadata": {
    "colab": {
      "provenance": [],
      "gpuType": "T4"
    },
    "kernelspec": {
      "name": "python3",
      "display_name": "Python 3"
    },
    "language_info": {
      "name": "python"
    },
    "accelerator": "GPU"
  },
  "cells": [
    {
      "cell_type": "markdown",
      "source": [
        "<center> <h1> ReLU Layer Implementation on CIFAR-10 Dataset </h1> </center>"
      ],
      "metadata": {
        "id": "tTpy3Kd9hHfJ"
      }
    },
    {
      "cell_type": "code",
      "execution_count": 1,
      "metadata": {
        "id": "Vyem4zvXg7kN"
      },
      "outputs": [],
      "source": [
        "import tensorflow as tf\n",
        "from tensorflow.keras import datasets, layers, models"
      ]
    },
    {
      "cell_type": "code",
      "source": [
        "# Load the Dataset\n",
        "\n",
        "(train_images, train_labels), (test_images, test_labels)= datasets.cifar10.load_data()\n",
        "\n",
        "# Normalize the images to [0, 1] range\n",
        "train_images, test_images= train_images / 255.0, test_images / 255.0"
      ],
      "metadata": {
        "colab": {
          "base_uri": "https://localhost:8080/"
        },
        "id": "WRnBwwdZhbLO",
        "outputId": "e51633bd-bb5c-4b58-e90d-788391342b40"
      },
      "execution_count": 2,
      "outputs": [
        {
          "output_type": "stream",
          "name": "stdout",
          "text": [
            "Downloading data from https://www.cs.toronto.edu/~kriz/cifar-10-python.tar.gz\n",
            "170498071/170498071 [==============================] - 6s 0us/step\n"
          ]
        }
      ]
    },
    {
      "cell_type": "code",
      "source": [
        "# Define a sloghtly more complex CNN model suited for CIFAR-10\n",
        "\n",
        "def create_model():\n",
        "\n",
        "  model= models.Sequential([\n",
        "      layers.Conv2D(32, (3, 3), padding= 'same', activation= 'relu', input_shape= (32, 32, 3)),\n",
        "      layers.Conv2D(32, (3, 3), activation= 'relu'),\n",
        "      layers.MaxPooling2D(2, 2),\n",
        "      layers.Dropout(0.25),\n",
        "\n",
        "      layers.Conv2D(64, (3, 3), padding= 'same', activation= 'relu'),\n",
        "      layers.Conv2D(64, (3, 3), activation= 'relu'),\n",
        "      layers.MaxPooling2D(2, 2),\n",
        "      layers.Dropout(0.25),\n",
        "\n",
        "      layers.Flatten(),\n",
        "      layers.Dense(512, activation= 'relu'),\n",
        "      layers.Dropout(0.5),\n",
        "      layers.Dense(10)\n",
        "  ])\n",
        "\n",
        "  return model\n",
        "\n",
        "model= create_model()"
      ],
      "metadata": {
        "id": "5beyUEKiiCtL"
      },
      "execution_count": 3,
      "outputs": []
    },
    {
      "cell_type": "code",
      "source": [
        "# Compile the Model\n",
        "model.compile(\n",
        "    optimizer= 'adam',\n",
        "    loss= tf.losses.SparseCategoricalCrossentropy(from_logits= True),\n",
        "    metrics= ['accuracy']\n",
        ")\n",
        "\n",
        "# Train the model\n",
        "model.fit(\n",
        "    train_images,\n",
        "    train_labels,\n",
        "    epochs= 5,\n",
        "    validation_data= (test_images, test_labels)\n",
        "    )\n",
        "\n",
        "# Evaluate the model\n",
        "test_loss, test_acc= model.evaluate(test_images, test_labels, verbose= 2)\n",
        "\n",
        "print('\\nTest Accuracy :', test_acc)"
      ],
      "metadata": {
        "colab": {
          "base_uri": "https://localhost:8080/"
        },
        "id": "MWmxnBEkjpX5",
        "outputId": "1137cc8b-17e7-41be-bd28-f248a11f1664"
      },
      "execution_count": 4,
      "outputs": [
        {
          "output_type": "stream",
          "name": "stdout",
          "text": [
            "Epoch 1/5\n",
            "1563/1563 [==============================] - 24s 9ms/step - loss: 1.5054 - accuracy: 0.4518 - val_loss: 1.2079 - val_accuracy: 0.5715\n",
            "Epoch 2/5\n",
            "1563/1563 [==============================] - 10s 7ms/step - loss: 1.1256 - accuracy: 0.6010 - val_loss: 0.9379 - val_accuracy: 0.6693\n",
            "Epoch 3/5\n",
            "1563/1563 [==============================] - 9s 6ms/step - loss: 0.9696 - accuracy: 0.6604 - val_loss: 0.8218 - val_accuracy: 0.7121\n",
            "Epoch 4/5\n",
            "1563/1563 [==============================] - 8s 5ms/step - loss: 0.8821 - accuracy: 0.6899 - val_loss: 0.8165 - val_accuracy: 0.7115\n",
            "Epoch 5/5\n",
            "1563/1563 [==============================] - 9s 6ms/step - loss: 0.8138 - accuracy: 0.7123 - val_loss: 0.7414 - val_accuracy: 0.7387\n",
            "313/313 - 1s - loss: 0.7414 - accuracy: 0.7387 - 757ms/epoch - 2ms/step\n",
            "\n",
            "Test Accuracy : 0.7386999726295471\n"
          ]
        }
      ]
    },
    {
      "cell_type": "markdown",
      "source": [
        "<center> <h1> Saving and Loading Model </h1> </center>"
      ],
      "metadata": {
        "id": "p6pdcNZNo_m5"
      }
    },
    {
      "cell_type": "code",
      "source": [
        "import numpy as np\n",
        "import pandas as pd\n",
        "import tensorflow as tf\n",
        "from tensorflow.keras import datasets, layers, models"
      ],
      "metadata": {
        "id": "ZkqsIKG1m4hV"
      },
      "execution_count": 5,
      "outputs": []
    },
    {
      "cell_type": "code",
      "source": [
        "# Load the Dataset\n",
        "\n",
        "(train_images, train_labels), _= datasets.mnist.load_data()\n",
        "\n",
        "# Normalize the images to [0, 1] range\n",
        "train_images = train_images / 255.0\n",
        "\n",
        "# Add the Chanels dimensions\n",
        "train_images= train_images[..., tf.newaxis].astype('float32')"
      ],
      "metadata": {
        "id": "TuXwdwYMrfEC"
      },
      "execution_count": 8,
      "outputs": []
    },
    {
      "cell_type": "code",
      "source": [
        "model= models.Sequential([\n",
        "    layers.Flatten(input_shape= (28, 28, 1)),\n",
        "    layers.Dense(128, activation= 'relu'),\n",
        "    layers.Dense(10)\n",
        "])"
      ],
      "metadata": {
        "id": "aihgMmiSsHYp"
      },
      "execution_count": 9,
      "outputs": []
    },
    {
      "cell_type": "code",
      "source": [
        "# Compile the Model\n",
        "model.compile(\n",
        "    optimizer= 'adam',\n",
        "    loss= tf.losses.SparseCategoricalCrossentropy(from_logits= True),\n",
        "    metrics= ['accuracy']\n",
        ")\n",
        "\n",
        "# Train the model\n",
        "model.fit(train_images, train_labels, epochs= 5)"
      ],
      "metadata": {
        "colab": {
          "base_uri": "https://localhost:8080/"
        },
        "id": "2XHtytVcsaro",
        "outputId": "0828ddc8-9144-4592-d282-bdcf24c7fe0e"
      },
      "execution_count": 10,
      "outputs": [
        {
          "output_type": "stream",
          "name": "stdout",
          "text": [
            "Epoch 1/5\n",
            "1875/1875 [==============================] - 5s 2ms/step - loss: 0.2616 - accuracy: 0.9255\n",
            "Epoch 2/5\n",
            "1875/1875 [==============================] - 5s 3ms/step - loss: 0.1153 - accuracy: 0.9662\n",
            "Epoch 3/5\n",
            "1875/1875 [==============================] - 5s 3ms/step - loss: 0.0789 - accuracy: 0.9762\n",
            "Epoch 4/5\n",
            "1875/1875 [==============================] - 5s 3ms/step - loss: 0.0583 - accuracy: 0.9820\n",
            "Epoch 5/5\n",
            "1875/1875 [==============================] - 6s 3ms/step - loss: 0.0451 - accuracy: 0.9859\n"
          ]
        },
        {
          "output_type": "execute_result",
          "data": {
            "text/plain": [
              "<keras.src.callbacks.History at 0x7bac2f7fdcc0>"
            ]
          },
          "metadata": {},
          "execution_count": 10
        }
      ]
    },
    {
      "cell_type": "code",
      "source": [
        "model.summary()"
      ],
      "metadata": {
        "colab": {
          "base_uri": "https://localhost:8080/"
        },
        "id": "83z2PL38tCDQ",
        "outputId": "77069e40-ad53-4d08-a18c-e11f2dd5f6ca"
      },
      "execution_count": 11,
      "outputs": [
        {
          "output_type": "stream",
          "name": "stdout",
          "text": [
            "Model: \"sequential_1\"\n",
            "_________________________________________________________________\n",
            " Layer (type)                Output Shape              Param #   \n",
            "=================================================================\n",
            " flatten_1 (Flatten)         (None, 784)               0         \n",
            "                                                                 \n",
            " dense_2 (Dense)             (None, 128)               100480    \n",
            "                                                                 \n",
            " dense_3 (Dense)             (None, 10)                1290      \n",
            "                                                                 \n",
            "=================================================================\n",
            "Total params: 101770 (397.54 KB)\n",
            "Trainable params: 101770 (397.54 KB)\n",
            "Non-trainable params: 0 (0.00 Byte)\n",
            "_________________________________________________________________\n"
          ]
        }
      ]
    },
    {
      "cell_type": "code",
      "source": [
        "model.save(\"my_mnist_model.h5\")"
      ],
      "metadata": {
        "colab": {
          "base_uri": "https://localhost:8080/"
        },
        "id": "vGgnV2bNs5Zu",
        "outputId": "79b42dd8-f472-41cb-824b-09346f3b2ca9"
      },
      "execution_count": 12,
      "outputs": [
        {
          "output_type": "stream",
          "name": "stderr",
          "text": [
            "/usr/local/lib/python3.10/dist-packages/keras/src/engine/training.py:3103: UserWarning: You are saving your model as an HDF5 file via `model.save()`. This file format is considered legacy. We recommend using instead the native Keras format, e.g. `model.save('my_model.keras')`.\n",
            "  saving_api.save_model(\n"
          ]
        }
      ]
    },
    {
      "cell_type": "code",
      "source": [],
      "metadata": {
        "id": "ryEwnfJPtFvl"
      },
      "execution_count": null,
      "outputs": []
    }
  ]
}